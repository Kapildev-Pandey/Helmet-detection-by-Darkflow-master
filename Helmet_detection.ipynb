{
 "cells": [
  {
   "cell_type": "markdown",
   "metadata": {},
   "source": [
    "This program is based on Helmet_detection using darkflow master. For details check on [darkflow-master](https://github.com/thtrieu/darkflow) and download it and extract it. Remember the location as well it is important."
   ]
  },
  {
   "cell_type": "code",
   "execution_count": 2,
   "metadata": {},
   "outputs": [],
   "source": [
    "#Import all  the necessary libraries\n",
    "import cv2\n",
    "import sys \n",
    "import os\n",
    "import numpy as np\n",
    "import time"
   ]
  },
  {
   "cell_type": "markdown",
   "metadata": {},
   "source": [
    "Here we will provide necessary path to to fill the gap. We also need configuration file and it's weights you can download from my github repository."
   ]
  },
  {
   "cell_type": "code",
   "execution_count": 3,
   "metadata": {},
   "outputs": [
    {
     "name": "stdout",
     "output_type": "stream",
     "text": [
      "Parsing /home/kapil/Deep_Learning/Convolutional Neural Network/Helmet/darkflow-master/cfg/yolov2-tiny.cfg\n",
      "Loading /home/kapil/Deep_Learning/Convolutional Neural Network/Helmet/darkflow-master/bin/yolov2-tiny_3000.weights ...\n",
      "Successfully identified 44148320 bytes\n",
      "Finished in 0.04075813293457031s\n",
      "\n",
      "Building net ...\n",
      "Source | Train? | Layer description                | Output size\n",
      "-------+--------+----------------------------------+---------------\n",
      "WARNING:tensorflow:From /home/kapil/anaconda3/lib/python3.7/site-packages/tensorflow/python/framework/op_def_library.py:263: colocate_with (from tensorflow.python.framework.ops) is deprecated and will be removed in a future version.\n",
      "Instructions for updating:\n",
      "Colocations handled automatically by placer.\n"
     ]
    },
    {
     "name": "stderr",
     "output_type": "stream",
     "text": [
      "/home/kapil/Deep_Learning/Convolutional Neural Network/Helmet/darkflow-master/darkflow/dark/darknet.py:54: UserWarning: ./cfg/yolov2-tiny_3000.cfg not found, use /home/kapil/Deep_Learning/Convolutional Neural Network/Helmet/darkflow-master/cfg/yolov2-tiny.cfg instead\n",
      "  cfg_path, FLAGS.model))\n"
     ]
    },
    {
     "name": "stdout",
     "output_type": "stream",
     "text": [
      "       |        | input                            | (?, 416, 416, 3)\n",
      " Load  |  Yep!  | conv 3x3p1_1  +bnorm  leaky      | (?, 416, 416, 16)\n",
      " Load  |  Yep!  | maxp 2x2p0_2                     | (?, 208, 208, 16)\n",
      " Load  |  Yep!  | conv 3x3p1_1  +bnorm  leaky      | (?, 208, 208, 32)\n",
      " Load  |  Yep!  | maxp 2x2p0_2                     | (?, 104, 104, 32)\n",
      " Load  |  Yep!  | conv 3x3p1_1  +bnorm  leaky      | (?, 104, 104, 64)\n",
      " Load  |  Yep!  | maxp 2x2p0_2                     | (?, 52, 52, 64)\n",
      " Load  |  Yep!  | conv 3x3p1_1  +bnorm  leaky      | (?, 52, 52, 128)\n",
      " Load  |  Yep!  | maxp 2x2p0_2                     | (?, 26, 26, 128)\n",
      " Load  |  Yep!  | conv 3x3p1_1  +bnorm  leaky      | (?, 26, 26, 256)\n",
      " Load  |  Yep!  | maxp 2x2p0_2                     | (?, 13, 13, 256)\n",
      " Load  |  Yep!  | conv 3x3p1_1  +bnorm  leaky      | (?, 13, 13, 512)\n",
      " Load  |  Yep!  | maxp 2x2p0_1                     | (?, 13, 13, 512)\n",
      " Load  |  Yep!  | conv 3x3p1_1  +bnorm  leaky      | (?, 13, 13, 1024)\n",
      " Load  |  Yep!  | conv 3x3p1_1  +bnorm  leaky      | (?, 13, 13, 512)\n",
      " Load  |  Yep!  | conv 1x1p0_1    linear           | (?, 13, 13, 35)\n",
      "-------+--------+----------------------------------+---------------\n",
      "Running entirely on CPU\n",
      "Finished in 13.24005389213562s\n",
      "\n"
     ]
    }
   ],
   "source": [
    "sys.path.append(os.path.abspath(\"/give_path_of-your_darkflow_folder/darkflow-master/\"))\n",
    "from darkflow.net.build import TFNet\n",
    "\n",
    "options = {\n",
    "    'model': '/give_path_of_your_configuration_file/yolov2-tiny.cfg',\n",
    "    'load': '/give_path_of_your_weights_file/yolov2-tiny_3000.weights',\n",
    "    'threshold': 0.1,\n",
    "}\n",
    "\n",
    "tfnet = TFNet(options)\n",
    "colors = [tuple(255 * np.random.rand(3)) for _ in range(10)]"
   ]
  },
  {
   "cell_type": "code",
   "execution_count": 28,
   "metadata": {},
   "outputs": [],
   "source": [
    "frame=cv2.imread('/Give_your_image_path/00666.jpg', 0) \n",
    "\n",
    "results = tfnet.return_predict(cv2.cvtColor(frame,cv2.COLOR_BGR2RGB))\n"
   ]
  },
  {
   "cell_type": "markdown",
   "metadata": {},
   "source": [
    "By running below code you will get require output."
   ]
  },
  {
   "cell_type": "code",
   "execution_count": 29,
   "metadata": {},
   "outputs": [],
   "source": [
    "\n",
    "for color, result in zip(colors, results):\n",
    "    tl = (result['topleft']['x'], result['topleft']['y'])\n",
    "    br = (result['bottomright']['x'], result['bottomright']['y'])\n",
    "    label = result['label']\n",
    "    confidence = result['confidence']\n",
    "    text = '{}: {:.0f}%'.format(label, confidence * 100)\n",
    "    frame = cv2.rectangle(frame, tl, br, color, 5)\n",
    "    frame = cv2.putText(\n",
    "        frame, text, tl, cv2.FONT_HERSHEY_COMPLEX, 1, (0, 0, 0), 2)\n",
    "cv2.imshow('frame', frame)\n",
    "\n",
    "    \n",
    "k = cv2.waitKey(0) & 0xFF\n",
    "\n",
    "# wait for ESC key to exit \n",
    "if k == 27: \n",
    "    cv2.destroyAllWindows() \n",
    "    \n",
    "# wait for 's' key to save and exit \n",
    "elif k == ord('s'): \n",
    "    cv2.imwrite('messigray.png',frame) \n",
    "    cv2.destroyAllWindows() \n"
   ]
  },
  {
   "cell_type": "code",
   "execution_count": null,
   "metadata": {},
   "outputs": [],
   "source": []
  },
  {
   "cell_type": "code",
   "execution_count": null,
   "metadata": {},
   "outputs": [],
   "source": []
  },
  {
   "cell_type": "code",
   "execution_count": null,
   "metadata": {},
   "outputs": [],
   "source": []
  }
 ],
 "metadata": {
  "kernelspec": {
   "display_name": "Python 3",
   "language": "python",
   "name": "python3"
  },
  "language_info": {
   "codemirror_mode": {
    "name": "ipython",
    "version": 3
   },
   "file_extension": ".py",
   "mimetype": "text/x-python",
   "name": "python",
   "nbconvert_exporter": "python",
   "pygments_lexer": "ipython3",
   "version": "3.7.4"
  }
 },
 "nbformat": 4,
 "nbformat_minor": 2
}
